{
 "cells": [
  {
   "cell_type": "markdown",
   "id": "e2968a6b",
   "metadata": {
    "collapsed": false
   },
   "source": [
    "# Вступне завдання на знайомство з базовим синтаксисом Sage\n",
    "\n",
    "Вітаю на першому завданні з Sage! У цьому зошиті ви виконаєте кілька невеликих завдань, щоб ознайомитися з базовим синтаксисом SageMath. Заповніть свій код у вказаних місцях. Не хвилюйтеся, якщо щось не вдастся з першого разу — ми вчимося!"
   ]
  },
  {
   "cell_type": "markdown",
   "id": "16bb88b3",
   "metadata": {
    "collapsed": false
   },
   "source": [
    "---\n",
    "## Прості арифметичні операції\n",
    "\n",
    "- Додайте 25 і 17.\n",
    "- Помножте 7 на 9.\n",
    "- Поділіть 144 на 12."
   ]
  },
  {
   "cell_type": "code",
   "execution_count": 3,
   "id": "82c3879d",
   "metadata": {
    "collapsed": false
   },
   "outputs": [
    {
     "data": {
      "text/plain": [
       "42"
      ]
     },
     "execution_count": 3,
     "metadata": {
     },
     "output_type": "execute_result"
    }
   ],
   "source": [
    "# Ваш код тут:\n",
    "25+17"
   ]
  },
  {
   "cell_type": "code",
   "execution_count": 4,
   "id": "4ab7c377",
   "metadata": {
    "collapsed": false
   },
   "outputs": [
    {
     "data": {
      "text/plain": [
       "63"
      ]
     },
     "execution_count": 4,
     "metadata": {
     },
     "output_type": "execute_result"
    }
   ],
   "source": [
    "# Ваш код тут:\n",
    "7*9"
   ]
  },
  {
   "cell_type": "code",
   "execution_count": 5,
   "id": "08ae7168",
   "metadata": {
    "collapsed": false
   },
   "outputs": [
    {
     "data": {
      "text/plain": [
       "12"
      ]
     },
     "execution_count": 5,
     "metadata": {
     },
     "output_type": "execute_result"
    }
   ],
   "source": [
    "# Ваш код тут:\n",
    "144/12"
   ]
  },
  {
   "cell_type": "markdown",
   "id": "e77d63d9",
   "metadata": {
    "collapsed": false
   },
   "source": [
    "---\n",
    "\n",
    "## Цілочисельні операції\n",
    "\n",
    "- Знайдіть залишок від ділення 156 на 7 \n",
    "- Поділіть 156 націло на 7\n",
    "- Розкладіть число 2024 на множники\n",
    "\n"
   ]
  },
  {
   "cell_type": "code",
   "execution_count": 6,
   "id": "2f15aedc",
   "metadata": {
    "collapsed": false
   },
   "outputs": [
    {
     "data": {
      "text/plain": [
       "2"
      ]
     },
     "execution_count": 6,
     "metadata": {
     },
     "output_type": "execute_result"
    }
   ],
   "source": [
    "# Ваш код тут:\n",
    "156 % 7"
   ]
  },
  {
   "cell_type": "code",
   "execution_count": 7,
   "id": "139a037d",
   "metadata": {
    "collapsed": false
   },
   "outputs": [
    {
     "data": {
      "text/plain": [
       "22"
      ]
     },
     "execution_count": 7,
     "metadata": {
     },
     "output_type": "execute_result"
    }
   ],
   "source": [
    "# Ваш код тут:\n",
    "156 // 7"
   ]
  },
  {
   "cell_type": "code",
   "execution_count": 8,
   "id": "c49d480c",
   "metadata": {
    "collapsed": false
   },
   "outputs": [
    {
     "data": {
      "text/plain": [
       "2^3 * 11 * 23"
      ]
     },
     "execution_count": 8,
     "metadata": {
     },
     "output_type": "execute_result"
    }
   ],
   "source": [
    "# Ваш код тут:\n",
    "factor(2024)"
   ]
  },
  {
   "cell_type": "markdown",
   "id": "00e6d090",
   "metadata": {
    "collapsed": false
   },
   "source": [
    "---\n",
    "\n",
    "## Степені та корені\n",
    "- Обчисліть $ 5^3 $.\n",
    "- Знайдіть квадратний корінь з 49."
   ]
  },
  {
   "cell_type": "code",
   "execution_count": 9,
   "id": "79344055",
   "metadata": {
    "collapsed": false
   },
   "outputs": [
    {
     "data": {
      "text/plain": [
       "125"
      ]
     },
     "execution_count": 9,
     "metadata": {
     },
     "output_type": "execute_result"
    }
   ],
   "source": [
    "# Ваш код тут:\n",
    "5^3"
   ]
  },
  {
   "cell_type": "code",
   "execution_count": 10,
   "id": "8cee8b7c",
   "metadata": {
    "collapsed": false
   },
   "outputs": [
    {
     "data": {
      "text/plain": [
       "7"
      ]
     },
     "execution_count": 10,
     "metadata": {
     },
     "output_type": "execute_result"
    }
   ],
   "source": [
    "# Ваш код тут:\n",
    "sqrt(49)"
   ]
  },
  {
   "cell_type": "markdown",
   "id": "9d63f06d",
   "metadata": {
    "collapsed": false
   },
   "source": [
    "---\n",
    "\n",
    "## Стандартні функції\n",
    "\n",
    "Обчисліть як точно, так і наближено:\n",
    "\n",
    "- $\\cos 0$\n",
    "- $\\sin \\pi$\n",
    "- $\\exp(2)$\n",
    "- $\\tan \\frac\\pi4$\n",
    "- $\\arcsin 1$\n",
    "\n"
   ]
  },
  {
   "cell_type": "code",
   "execution_count": 15,
   "id": "de4fd035-52e2-46c3-95cb-f61a5a19b579",
   "metadata": {
    "collapsed": false
   },
   "outputs": [
    {
     "data": {
      "text/plain": [
       "1"
      ]
     },
     "execution_count": 15,
     "metadata": {
     },
     "output_type": "execute_result"
    }
   ],
   "source": [
    "# Ваш код тут:\n",
    "cos(0)\n",
    "#cos(0).n()"
   ]
  },
  {
   "cell_type": "code",
   "execution_count": 14,
   "id": "d6b3355a",
   "metadata": {
    "collapsed": false
   },
   "outputs": [
    {
     "data": {
      "text/plain": [
       "0"
      ]
     },
     "execution_count": 14,
     "metadata": {
     },
     "output_type": "execute_result"
    }
   ],
   "source": [
    "# Ваш код тут:\n",
    "sin(pi)\n",
    "#sin(pi).n()\n"
   ]
  },
  {
   "cell_type": "code",
   "execution_count": 17,
   "id": "011ddc7b",
   "metadata": {
    "collapsed": false
   },
   "outputs": [
    {
     "data": {
      "text/plain": [
       "e^2"
      ]
     },
     "execution_count": 17,
     "metadata": {
     },
     "output_type": "execute_result"
    }
   ],
   "source": [
    "# Ваш код тут:\n",
    "exp(2)\n",
    "#exp(2).n()"
   ]
  },
  {
   "cell_type": "code",
   "execution_count": 19,
   "id": "29d9a793",
   "metadata": {
    "collapsed": false
   },
   "outputs": [
    {
     "data": {
      "text/plain": [
       "1"
      ]
     },
     "execution_count": 19,
     "metadata": {
     },
     "output_type": "execute_result"
    }
   ],
   "source": [
    "# Ваш код тут:\n",
    "tan(pi/4)\n",
    "#tan(pi/4).n()"
   ]
  },
  {
   "cell_type": "code",
   "execution_count": 21,
   "id": "a02355d8",
   "metadata": {
    "collapsed": false
   },
   "outputs": [
    {
     "data": {
      "text/plain": [
       "1.57079632679490"
      ]
     },
     "execution_count": 21,
     "metadata": {
     },
     "output_type": "execute_result"
    }
   ],
   "source": [
    "# Ваш код тут:\n",
    "arcsin(1)\n",
    "#arcsin(1).n()"
   ]
  },
  {
   "cell_type": "markdown",
   "id": "b2f30eb3-2258-4c15-8324-8944783be98b",
   "metadata": {
    "collapsed": false
   },
   "source": [
    "---\n",
    "\n",
    "## Змінні\n",
    "Оголосіть змінні `x` та `y`, де `x = 10` та `y = 15`. Обчисліть їх суму та добуток."
   ]
  },
  {
   "cell_type": "code",
   "execution_count": 24,
   "id": "d707811d",
   "metadata": {
    "collapsed": false
   },
   "outputs": [
    {
     "data": {
      "text/html": "<html>\\(\\displaystyle 25\\)</html>",
      "text/latex": [
       "$\\displaystyle 25$"
      ],
      "text/plain": [
       "25"
      ]
     },
     "execution_count": 24,
     "metadata": {
     },
     "output_type": "execute_result"
    }
   ],
   "source": [
    "# Ваш код тут:\n",
    "x = 10 \n",
    "y = 15\n",
    "z = x + y\n",
    "show(z)"
   ]
  },
  {
   "cell_type": "code",
   "execution_count": 25,
   "id": "fbdae0a2",
   "metadata": {
    "collapsed": false
   },
   "outputs": [
    {
     "data": {
      "text/html": "<html>\\(\\displaystyle 150\\)</html>",
      "text/latex": [
       "$\\displaystyle 150$"
      ],
      "text/plain": [
       "150"
      ]
     },
     "execution_count": 25,
     "metadata": {
     },
     "output_type": "execute_result"
    }
   ],
   "source": [
    "# Ваш код тут:\n",
    "x = 10 \n",
    "y = 15\n",
    "z = x * y\n",
    "show(z)"
   ]
  },
  {
   "cell_type": "markdown",
   "id": "d80be4cd",
   "metadata": {
    "collapsed": false
   },
   "source": [
    "---\n",
    "\n",
    "## Символьні вирази\n",
    "Оголосіть символьну змінну `z` та обчисліть вираз $ 3z^2 + 2z - 5 $."
   ]
  },
  {
   "cell_type": "code",
   "execution_count": 29,
   "id": "bb40f4a8",
   "metadata": {
    "collapsed": false
   },
   "outputs": [
    {
     "data": {
      "text/html": "<html>\\(\\displaystyle 3 \\, z^{2} + 2 \\, z - 5\\)</html>",
      "text/latex": [
       "$\\displaystyle 3 \\, z^{2} + 2 \\, z - 5$"
      ],
      "text/plain": [
       "3*z^2 + 2*z - 5"
      ]
     },
     "execution_count": 29,
     "metadata": {
     },
     "output_type": "execute_result"
    }
   ],
   "source": [
    "# Ваш код тут:\n",
    "var('z')\n",
    "f = 3 * z^2 + 2*z - 5\n",
    "show(f)"
   ]
  },
  {
   "cell_type": "markdown",
   "id": "2d48e3c5",
   "metadata": {
    "collapsed": false
   },
   "source": [
    "---\n",
    "\n",
    "## Спрощення виразів\n",
    "\n",
    "Спростіть вираз: $ 2x^2 + 4x - 2x^2 + x $."
   ]
  },
  {
   "cell_type": "code",
   "execution_count": 30,
   "id": "1f125031",
   "metadata": {
    "collapsed": false
   },
   "outputs": [
    {
     "data": {
      "text/html": "<html>\\(\\displaystyle 5 \\, x\\)</html>",
      "text/latex": [
       "$\\displaystyle 5 \\, x$"
      ],
      "text/plain": [
       "5*x"
      ]
     },
     "execution_count": 30,
     "metadata": {
     },
     "output_type": "execute_result"
    }
   ],
   "source": [
    "# Ваш код тут:\n",
    "var('x')\n",
    "f = 2 * x^2 + 4*x - 2 * x^2 + x\n",
    "show(f)"
   ]
  },
  {
   "cell_type": "markdown",
   "id": "04dede92",
   "metadata": {
    "collapsed": false
   },
   "source": [
    "---\n",
    "\n",
    "## Розкриття дужок\n",
    "\n",
    "Розкрийте дужки для виразу $ (x + 2)(x - 3) $."
   ]
  },
  {
   "cell_type": "code",
   "execution_count": 32,
   "id": "5897fb78",
   "metadata": {
    "collapsed": false
   },
   "outputs": [
    {
     "data": {
      "text/plain": [
       "x^2 - x - 6"
      ]
     },
     "execution_count": 32,
     "metadata": {
     },
     "output_type": "execute_result"
    }
   ],
   "source": [
    "# Ваш код тут:\n",
    "var('x')\n",
    "f = (x+2)*(x-3)\n",
    "expand(f)"
   ]
  },
  {
   "cell_type": "markdown",
   "id": "2a39fa06",
   "metadata": {
    "collapsed": false
   },
   "source": [
    "---\n",
    "\n",
    "## Факторизація\n",
    "Розкладіть на найпростіші множники квадратний тричлен $ x^2 - 9x + 20 $."
   ]
  },
  {
   "cell_type": "code",
   "execution_count": 33,
   "id": "f720ef67",
   "metadata": {
    "collapsed": false
   },
   "outputs": [
    {
     "data": {
      "text/plain": [
       "(x - 4)*(x - 5)"
      ]
     },
     "execution_count": 33,
     "metadata": {
     },
     "output_type": "execute_result"
    }
   ],
   "source": [
    "# Ваш код тут:\n",
    "var('x')\n",
    "f = x^2 - 9*x + 20\n",
    "factor(f)"
   ]
  },
  {
   "cell_type": "markdown",
   "id": "5e80e95e",
   "metadata": {
    "collapsed": false
   },
   "source": [
    "---\n",
    "\n",
    "## Розв'язування рівнянь\n",
    "Розв'яжіть рівняння $ x^2 - 4x + 3 = 0 $."
   ]
  },
  {
   "cell_type": "code",
   "execution_count": 34,
   "id": "6ba9ca06",
   "metadata": {
    "collapsed": false
   },
   "outputs": [
    {
     "data": {
      "text/plain": [
       "[x == 3, x == 1]"
      ]
     },
     "execution_count": 34,
     "metadata": {
     },
     "output_type": "execute_result"
    }
   ],
   "source": [
    "# Ваш код тут:\n",
    "var('x')\n",
    "eq = x^2 - 4*x + 3 == 0\n",
    "solve(eq, x)"
   ]
  },
  {
   "cell_type": "markdown",
   "id": "d81e6b69",
   "metadata": {
    "collapsed": false
   },
   "source": [
    "---\n",
    "\n",
    "## Графік функції\n",
    "Побудуйте графік функції $ f(x) = x^2 - 4x + 3 $ у діапазоні $ x = [-5, 5] $."
   ]
  },
  {
   "cell_type": "code",
   "execution_count": 36,
   "id": "c8c388b5",
   "metadata": {
    "collapsed": false
   },
   "outputs": [
    {
     "data": {
      "image/png": "[encoded data removed]",
      "text/plain": [
       "Graphics object consisting of 1 graphics primitive"
      ]
     },
     "execution_count": 36,
     "metadata": {
     },
     "output_type": "execute_result"
    }
   ],
   "source": [
    "# Ваш код тут:\n",
    "var('x')\n",
    "f = x^2 - 4 * x + 3\n",
    "\n",
    "plot(f, (x, -5, 5))"
   ]
  },
  {
   "cell_type": "markdown",
   "id": "bfe6ff9e",
   "metadata": {
    "collapsed": false
   },
   "source": [
    "---\n",
    "\n",
    "## Похідна\n",
    "Знайдіть похідну функції $ f(x) = x^3 + 5x^2 - 2x + 7 $."
   ]
  },
  {
   "cell_type": "code",
   "execution_count": 37,
   "id": "19f405aa",
   "metadata": {
    "collapsed": false
   },
   "outputs": [
    {
     "data": {
      "text/plain": [
       "3*x^2 + 10*x - 2"
      ]
     },
     "execution_count": 37,
     "metadata": {
     },
     "output_type": "execute_result"
    }
   ],
   "source": [
    "# Ваш код тут:\n",
    "var('x')\n",
    "f = x^3 + 5 * x^2 - 2*x + 7\n",
    "\n",
    "diff(f, x)"
   ]
  },
  {
   "cell_type": "markdown",
   "id": "f3c97713",
   "metadata": {
    "collapsed": false
   },
   "source": [
    "---\n",
    "\n",
    "## Первісна\n",
    "Знайдіть невизначений інтеграл від функції $ f(x) = 2x^3 - x^2 + 5 $."
   ]
  },
  {
   "cell_type": "code",
   "execution_count": 38,
   "id": "fbacc613",
   "metadata": {
    "collapsed": false
   },
   "outputs": [
    {
     "data": {
      "text/plain": [
       "1/2*x^4 - 1/3*x^3 + 5*x"
      ]
     },
     "execution_count": 38,
     "metadata": {
     },
     "output_type": "execute_result"
    }
   ],
   "source": [
    "# Ваш код тут:\n",
    "var('x')\n",
    "f = 2 * x^3 - x^2 +5\n",
    "\n",
    "integrate(f, x)"
   ]
  },
  {
   "cell_type": "markdown",
   "id": "93dad69b",
   "metadata": {
    "collapsed": false
   },
   "source": [
    "---\n",
    "\n",
    "## Визначений інтеграл\n",
    "Проінтегруйте функцію $ f(x) = x^2 $ від $ x = 1 $ до $ x = 4 $."
   ]
  },
  {
   "cell_type": "code",
   "execution_count": 39,
   "id": "97af5af9",
   "metadata": {
    "collapsed": false
   },
   "outputs": [
    {
     "data": {
      "text/plain": [
       "21"
      ]
     },
     "execution_count": 39,
     "metadata": {
     },
     "output_type": "execute_result"
    }
   ],
   "source": [
    "# Ваш код тут:\n",
    "var('x')\n",
    "f = x^2\n",
    "integrate(f, x, 1, 4)"
   ]
  },
  {
   "cell_type": "markdown",
   "id": "9750aabe",
   "metadata": {
    "collapsed": false
   },
   "source": [
    "---\n",
    "\n",
    "## Матриці\n",
    "\n",
    "Створіть матрицю розміру $2\\times 2$ з елементами: 1, 2, 3, 4. Виведіть матрицю на екран.\n",
    "\n"
   ]
  },
  {
   "cell_type": "code",
   "execution_count": 41,
   "id": "d8e0c9f0",
   "metadata": {
    "collapsed": false
   },
   "outputs": [
    {
     "data": {
      "text/html": "<html>\\(\\displaystyle \\left(\\begin{array}{rr}\n1 & 2 \\\\\n3 & 4\n\\end{array}\\right)\\)</html>",
      "text/latex": [
       "$\\displaystyle \\left(\\begin{array}{rr}\n",
       "1 & 2 \\\\\n",
       "3 & 4\n",
       "\\end{array}\\right)$"
      ],
      "text/plain": [
       "[1 2]\n",
       "[3 4]"
      ]
     },
     "execution_count": 41,
     "metadata": {
     },
     "output_type": "execute_result"
    }
   ],
   "source": [
    "# Ваш код тут:\n",
    "A = Matrix([[1, 2], [3, 4]])\n",
    "show(A)"
   ]
  },
  {
   "cell_type": "markdown",
   "id": "45a03451",
   "metadata": {
    "collapsed": false
   },
   "source": [
    "---\n",
    "\n",
    "## Операції з матрицями\n",
    "Для матриці $ A = \\begin{bmatrix} 1 & 2 \\\\ 3 & 4 \\end{bmatrix} $ обчисліть:\n",
    "- Транспоновану матрицю `A`.\n",
    "- Визначник матриці `A`."
   ]
  },
  {
   "cell_type": "code",
   "execution_count": 42,
   "id": "07151b1f",
   "metadata": {
    "collapsed": false
   },
   "outputs": [
    {
     "data": {
      "text/html": "<html>\\(\\displaystyle \\left(\\begin{array}{rr}\n1 & 3 \\\\\n2 & 4\n\\end{array}\\right)\\)</html>",
      "text/latex": [
       "$\\displaystyle \\left(\\begin{array}{rr}\n",
       "1 & 3 \\\\\n",
       "2 & 4\n",
       "\\end{array}\\right)$"
      ],
      "text/plain": [
       "[1 3]\n",
       "[2 4]"
      ]
     },
     "execution_count": 42,
     "metadata": {
     },
     "output_type": "execute_result"
    }
   ],
   "source": [
    "# Ваш код тут:\n",
    "A = Matrix([[1, 2], [3, 4]])\n",
    "A_transpose = A.transpose()\n",
    "show(A_transpose)"
   ]
  },
  {
   "cell_type": "code",
   "execution_count": 43,
   "id": "19942eeb-6119-4e47-965a-d69ad0baa5bc",
   "metadata": {
    "collapsed": false
   },
   "outputs": [
    {
     "data": {
      "text/html": "<html>\\(\\displaystyle -2\\)</html>",
      "text/latex": [
       "$\\displaystyle -2$"
      ],
      "text/plain": [
       "-2"
      ]
     },
     "execution_count": 43,
     "metadata": {
     },
     "output_type": "execute_result"
    }
   ],
   "source": [
    "# Ваш код тут:\n",
    "A = Matrix([[1, 2], [3, 4]])\n",
    "det_A = A.determinant()\n",
    "show(det_A)"
   ]
  },
  {
   "cell_type": "markdown",
   "id": "b42edc4e",
   "metadata": {
    "collapsed": false
   },
   "source": [
    "---\n",
    "\n",
    "## Власні значення\n",
    "Знайдіть власні значення матриці $ A = \\begin{bmatrix} 1 & 2 \\\\ 2 & 3 \\end{bmatrix} $."
   ]
  },
  {
   "cell_type": "code",
   "execution_count": 44,
   "id": "06cc7e71",
   "metadata": {
    "collapsed": false
   },
   "outputs": [
    {
     "data": {
      "text/plain": [
       "[-0.3722813232690144?, 5.372281323269015?]"
      ]
     },
     "execution_count": 44,
     "metadata": {
     },
     "output_type": "execute_result"
    }
   ],
   "source": [
    "# Ваш код тут:\n",
    "A = Matrix([[1, 2], [3, 4]])\n",
    "A.eigenvalues()"
   ]
  },
  {
   "cell_type": "markdown",
   "id": "3b38c48b",
   "metadata": {
    "collapsed": false
   },
   "source": [
    "---\n",
    "\n",
    "## Системи рівнянь\n",
    "Розв'яжіть систему рівнянь:\n",
    "\\begin{align*}\n",
    "x + y &= 3 \\\\\n",
    "2x - y &= 0\n",
    "\\end{align*}"
   ]
  },
  {
   "cell_type": "code",
   "execution_count": 45,
   "id": "eeb2a9a8",
   "metadata": {
    "collapsed": false
   },
   "outputs": [
    {
     "data": {
      "text/plain": [
       "[[x == 1, y == 2]]"
      ]
     },
     "execution_count": 45,
     "metadata": {
     },
     "output_type": "execute_result"
    }
   ],
   "source": [
    "# Ваш код тут:\n",
    "var('x y')\n",
    "eq1 = x + y == 3\n",
    "eq2 = 2*x - y == 0\n",
    "solve([eq1, eq2], x, y)"
   ]
  },
  {
   "cell_type": "markdown",
   "id": "a43d2b7f",
   "metadata": {
    "collapsed": false
   },
   "source": [
    "---\n",
    "\n",
    "## Умовні оператори\n",
    "\n",
    "Напишіть умовний оператор, який перевіряє, чи є число `n` додатним, від'ємним або рівним нулю.\n",
    "\n"
   ]
  },
  {
   "cell_type": "code",
   "execution_count": 47,
   "id": "e90ef4f6",
   "metadata": {
    "collapsed": false
   },
   "outputs": [
    {
     "name": "stdout",
     "output_type": "stream",
     "text": [
      "Число від'ємне\n"
     ]
    }
   ],
   "source": [
    "# Ваш код тут:\n",
    "n = -7\n",
    "\n",
    "if n > 0:\n",
    "    print(\"Число додатне\")\n",
    "elif n == 0:\n",
    "    print(\"Число рівне нулю\")\n",
    "else:\n",
    "    print(\"Число від'ємне\")"
   ]
  },
  {
   "cell_type": "markdown",
   "id": "4d8fdfe0",
   "metadata": {
    "collapsed": false
   },
   "source": [
    "---\n",
    "\n",
    "## Цикли\n",
    "Напишіть цикл, який виводить числа від 1 до 10."
   ]
  },
  {
   "cell_type": "code",
   "execution_count": 48,
   "id": "c7b5607d",
   "metadata": {
    "collapsed": false
   },
   "outputs": [
    {
     "name": "stdout",
     "output_type": "stream",
     "text": [
      "0\n",
      "1\n",
      "2\n",
      "3\n",
      "4\n",
      "5\n",
      "6\n",
      "7\n",
      "8\n",
      "9\n"
     ]
    }
   ],
   "source": [
    "# Ваш код тут:\n",
    "for i in range(10):\n",
    "    print(i)"
   ]
  },
  {
   "cell_type": "markdown",
   "id": "62c726e7",
   "metadata": {
    "collapsed": false
   },
   "source": [
    "---\n",
    "\n",
    "## Оголошення функцій\n",
    "\n",
    "Оголосіть функцію `f(x)`, яка повертає $ 3x^2 - 2x + 1 $. Потім обчисліть `f(5)`.\n",
    "\n"
   ]
  },
  {
   "cell_type": "code",
   "execution_count": 49,
   "id": "bf319cff",
   "metadata": {
    "collapsed": false
   },
   "outputs": [
    {
     "data": {
      "text/plain": [
       "66"
      ]
     },
     "execution_count": 49,
     "metadata": {
     },
     "output_type": "execute_result"
    }
   ],
   "source": [
    "# Ваш код тут:\n",
    "var('x')\n",
    "f(x) = 3*x^2 - 2*x + 1\n",
    "f(5)"
   ]
  },
  {
   "cell_type": "markdown",
   "id": "955c86cd",
   "metadata": {
    "collapsed": false
   },
   "source": [
    "---\n",
    "\n",
    "## Графіки декількох функцій\n",
    "Побудуйте графіки $ f(x) = x^2 $ та $ g(x) = -x^2 + 5 $ на одній площині у діапазоні $ x = [-3, 3] $."
   ]
  },
  {
   "cell_type": "code",
   "execution_count": 58,
   "id": "cdf31d02",
   "metadata": {
    "collapsed": false
   },
   "outputs": [
    {
     "data": {
      "image/png": "[encoded data removed]",
      "text/plain": [
       "Graphics object consisting of 2 graphics primitives"
      ]
     },
     "execution_count": 58,
     "metadata": {
     },
     "output_type": "execute_result"
    }
   ],
   "source": [
    "# Ваш код тут:\n",
    "var('x')\n",
    "f = x^2\n",
    "g = - x^2 + 5\n",
    "\n",
    "plot1 = plot(f, (x, -3, 3), color='blue', legend_label='x^2')\n",
    "plot2 = plot(g, (x, -3, 3), color='red', legend_label='-x^2 + 5')\n",
    "final_plot = plot1 + plot2\n",
    "\n",
    "\n",
    "plot(final_plot)"
   ]
  }
 ],
 "metadata": {
  "kernelspec": {
   "argv": [
    "sage-10.7",
    "--python",
    "-m",
    "sage.repl.ipython_kernel",
    "--matplotlib=inline",
    "-f",
    "{connection_file}"
   ],
   "display_name": "SageMath 10.7",
   "env": {
   },
   "language": "sagemath",
   "metadata": {
    "cocalc": {
     "description": "Open-source mathematical software system",
     "priority": 10,
     "url": "https://www.sagemath.org/"
    }
   },
   "name": "sage-10.7",
   "resource_dir": "/ext/jupyter/kernels/sage-10.7"
  },
  "language_info": {
   "codemirror_mode": {
    "name": "ipython",
    "version": 3
   },
   "file_extension": ".py",
   "mimetype": "text/x-python",
   "name": "python",
   "nbconvert_exporter": "python",
   "pygments_lexer": "ipython3",
   "version": "3.12.5"
  }
 },
 "nbformat": 4,
 "nbformat_minor": 4
}