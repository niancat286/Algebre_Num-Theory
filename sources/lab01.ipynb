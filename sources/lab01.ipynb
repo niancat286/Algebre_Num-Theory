{
 "cells": [
  {
   "cell_type": "markdown",
   "id": "e2968a6b",
   "metadata": {},
   "source": [
    "# Вступне завдання на знайомство з базовим синтаксисом Sage\n",
    "\n",
    "Вітаю на першому завданні з Sage! У цьому зошиті ви виконаєте кілька невеликих завдань, щоб ознайомитися з базовим синтаксисом SageMath. Заповніть свій код у вказаних місцях. Не хвилюйтеся, якщо щось не вдастся з першого разу — ми вчимося!"
   ]
  },
  {
   "cell_type": "markdown",
   "id": "16bb88b3",
   "metadata": {},
   "source": [
    "---\n",
    "## Прості арифметичні операції\n",
    "\n",
    "- Додайте 25 і 17.\n",
    "- Помножте 7 на 9.\n",
    "- Поділіть 144 на 12."
   ]
  },
  {
   "cell_type": "code",
   "execution_count": null,
   "id": "82c3879d",
   "metadata": {},
   "outputs": [],
   "source": [
    "# Ваш код тут:"
   ]
  },
  {
   "cell_type": "code",
   "execution_count": null,
   "id": "4ab7c377",
   "metadata": {},
   "outputs": [],
   "source": [
    "# Ваш код тут:"
   ]
  },
  {
   "cell_type": "code",
   "execution_count": null,
   "id": "08ae7168",
   "metadata": {},
   "outputs": [],
   "source": [
    "# Ваш код тут:"
   ]
  },
  {
   "cell_type": "markdown",
   "id": "e77d63d9",
   "metadata": {},
   "source": [
    "---\n",
    "## Цілочисельні операції\n",
    "\n",
    "- Знайдіть залишок від ділення 156 на 7 \n",
    "- Поділіть 156 націло на 7\n",
    "- Розкладіть число 2024 на множники"
   ]
  },
  {
   "cell_type": "code",
   "execution_count": null,
   "id": "2f15aedc",
   "metadata": {},
   "outputs": [],
   "source": [
    "# Ваш код тут:"
   ]
  },
  {
   "cell_type": "code",
   "execution_count": null,
   "id": "139a037d",
   "metadata": {},
   "outputs": [],
   "source": [
    "# Ваш код тут:"
   ]
  },
  {
   "cell_type": "code",
   "execution_count": null,
   "id": "c49d480c",
   "metadata": {},
   "outputs": [],
   "source": [
    "# Ваш код тут:"
   ]
  },
  {
   "cell_type": "markdown",
   "id": "00e6d090",
   "metadata": {},
   "source": [
    "---\n",
    "\n",
    "## Степені та корені\n",
    "- Обчисліть $ 5^3 $.\n",
    "- Знайдіть квадратний корінь з 49."
   ]
  },
  {
   "cell_type": "code",
   "execution_count": null,
   "id": "79344055",
   "metadata": {},
   "outputs": [],
   "source": [
    "# Ваш код тут:"
   ]
  },
  {
   "cell_type": "code",
   "execution_count": null,
   "id": "8cee8b7c",
   "metadata": {},
   "outputs": [],
   "source": [
    "# Ваш код тут:"
   ]
  },
  {
   "cell_type": "markdown",
   "id": "9d63f06d",
   "metadata": {},
   "source": [
    "---\n",
    "\n",
    "## Стандартні функції\n",
    "\n",
    "Обчисліть як точно, так і наближено:\n",
    "- $\\cos 0$\n",
    "- $\\sin \\pi$\n",
    "- $\\exp(2)$\n",
    "- $\\tan \\frac\\pi4$\n",
    "- $\\arcsin 1$\n"
   ]
  },
  {
   "cell_type": "code",
   "execution_count": null,
   "id": "de4fd035-52e2-46c3-95cb-f61a5a19b579",
   "metadata": {},
   "outputs": [],
   "source": [
    "# Ваш код тут:"
   ]
  },
  {
   "cell_type": "code",
   "execution_count": null,
   "id": "d6b3355a",
   "metadata": {},
   "outputs": [],
   "source": [
    "# Ваш код тут:"
   ]
  },
  {
   "cell_type": "code",
   "execution_count": null,
   "id": "011ddc7b",
   "metadata": {},
   "outputs": [],
   "source": [
    "# Ваш код тут:"
   ]
  },
  {
   "cell_type": "code",
   "execution_count": null,
   "id": "29d9a793",
   "metadata": {},
   "outputs": [],
   "source": [
    "# Ваш код тут:"
   ]
  },
  {
   "cell_type": "code",
   "execution_count": null,
   "id": "a02355d8",
   "metadata": {},
   "outputs": [],
   "source": [
    "# Ваш код тут:"
   ]
  },
  {
   "cell_type": "markdown",
   "id": "b2f30eb3-2258-4c15-8324-8944783be98b",
   "metadata": {},
   "source": [
    "---\n",
    "\n",
    "## Змінні\n",
    "Оголосіть змінні `x` та `y`, де `x = 10` та `y = 15`. Обчисліть їх суму та добуток."
   ]
  },
  {
   "cell_type": "code",
   "execution_count": null,
   "id": "d707811d",
   "metadata": {},
   "outputs": [],
   "source": [
    "# Ваш код тут:"
   ]
  },
  {
   "cell_type": "code",
   "execution_count": null,
   "id": "fbdae0a2",
   "metadata": {},
   "outputs": [],
   "source": [
    "# Ваш код тут:"
   ]
  },
  {
   "cell_type": "markdown",
   "id": "d80be4cd",
   "metadata": {},
   "source": [
    "---\n",
    "\n",
    "## Символьні вирази\n",
    "Оголосіть символьну змінну `z` та обчисліть вираз $ 3z^2 + 2z - 5 $."
   ]
  },
  {
   "cell_type": "code",
   "execution_count": null,
   "id": "bb40f4a8",
   "metadata": {},
   "outputs": [],
   "source": [
    "# Ваш код тут:"
   ]
  },
  {
   "cell_type": "markdown",
   "id": "2d48e3c5",
   "metadata": {},
   "source": [
    "---\n",
    "\n",
    "## Спрощення виразів\n",
    "\n",
    "Спростіть вираз: $ 2x^2 + 4x - 2x^2 + x $."
   ]
  },
  {
   "cell_type": "code",
   "execution_count": null,
   "id": "1f125031",
   "metadata": {},
   "outputs": [],
   "source": [
    "# Ваш код тут:"
   ]
  },
  {
   "cell_type": "markdown",
   "id": "04dede92",
   "metadata": {},
   "source": [
    "---\n",
    "\n",
    "## Розкриття дужок\n",
    "\n",
    "Розкрийте дужки для виразу $ (x + 2)(x - 3) $."
   ]
  },
  {
   "cell_type": "code",
   "execution_count": null,
   "id": "5897fb78",
   "metadata": {},
   "outputs": [],
   "source": [
    "# Ваш код тут:"
   ]
  },
  {
   "cell_type": "markdown",
   "id": "2a39fa06",
   "metadata": {},
   "source": [
    "---\n",
    "\n",
    "## Факторизація\n",
    "Розкладіть на найпростіші множники квадратний тричлен $ x^2 - 9x + 20 $."
   ]
  },
  {
   "cell_type": "code",
   "execution_count": null,
   "id": "f720ef67",
   "metadata": {},
   "outputs": [],
   "source": [
    "# Ваш код тут:"
   ]
  },
  {
   "cell_type": "markdown",
   "id": "5e80e95e",
   "metadata": {},
   "source": [
    "---\n",
    "\n",
    "## Розв'язування рівнянь\n",
    "Розв'яжіть рівняння $ x^2 - 4x + 3 = 0 $."
   ]
  },
  {
   "cell_type": "code",
   "execution_count": null,
   "id": "6ba9ca06",
   "metadata": {},
   "outputs": [],
   "source": [
    "# Ваш код тут:"
   ]
  },
  {
   "cell_type": "markdown",
   "id": "d81e6b69",
   "metadata": {},
   "source": [
    "---\n",
    "\n",
    "## Графік функції\n",
    "Побудуйте графік функції $ f(x) = x^2 - 4x + 3 $ у діапазоні $ x = [-5, 5] $."
   ]
  },
  {
   "cell_type": "code",
   "execution_count": null,
   "id": "c8c388b5",
   "metadata": {},
   "outputs": [],
   "source": [
    "# Ваш код тут:"
   ]
  },
  {
   "cell_type": "markdown",
   "id": "bfe6ff9e",
   "metadata": {},
   "source": [
    "---\n",
    "\n",
    "## Похідна\n",
    "Знайдіть похідну функції $ f(x) = x^3 + 5x^2 - 2x + 7 $."
   ]
  },
  {
   "cell_type": "code",
   "execution_count": null,
   "id": "19f405aa",
   "metadata": {},
   "outputs": [],
   "source": [
    "# Ваш код тут:"
   ]
  },
  {
   "cell_type": "markdown",
   "id": "f3c97713",
   "metadata": {},
   "source": [
    "---\n",
    "\n",
    "## Первісна\n",
    "Знайдіть невизначений інтеграл від функції $ f(x) = 2x^3 - x^2 + 5 $."
   ]
  },
  {
   "cell_type": "code",
   "execution_count": null,
   "id": "fbacc613",
   "metadata": {},
   "outputs": [],
   "source": [
    "# Ваш код тут:"
   ]
  },
  {
   "cell_type": "markdown",
   "id": "93dad69b",
   "metadata": {},
   "source": [
    "---\n",
    "\n",
    "## Визначений інтеграл\n",
    "Проінтегруйте функцію $ f(x) = x^2 $ від $ x = 1 $ до $ x = 4 $."
   ]
  },
  {
   "cell_type": "code",
   "execution_count": null,
   "id": "97af5af9",
   "metadata": {},
   "outputs": [],
   "source": [
    "# Ваш код тут:"
   ]
  },
  {
   "cell_type": "markdown",
   "id": "9750aabe",
   "metadata": {},
   "source": [
    "---\n",
    "\n",
    "## Матриці\n",
    "Створіть матрицю розміру $2\\times 2$ з елементами: 1, 2, 3, 4. Виведіть матрицю на екран."
   ]
  },
  {
   "cell_type": "code",
   "execution_count": null,
   "id": "d8e0c9f0",
   "metadata": {},
   "outputs": [],
   "source": [
    "# Ваш код тут:"
   ]
  },
  {
   "cell_type": "markdown",
   "id": "45a03451",
   "metadata": {},
   "source": [
    "---\n",
    "\n",
    "## Операції з матрицями\n",
    "Для матриці $ A = \\begin{bmatrix} 1 & 2 \\\\ 3 & 4 \\end{bmatrix} $ обчисліть:\n",
    "- Транспоновану матрицю `A`.\n",
    "- Визначник матриці `A`."
   ]
  },
  {
   "cell_type": "code",
   "execution_count": null,
   "id": "07151b1f",
   "metadata": {},
   "outputs": [],
   "source": [
    "# Ваш код тут:"
   ]
  },
  {
   "cell_type": "code",
   "execution_count": null,
   "id": "19942eeb-6119-4e47-965a-d69ad0baa5bc",
   "metadata": {},
   "outputs": [],
   "source": [
    "# Ваш код тут:"
   ]
  },
  {
   "cell_type": "markdown",
   "id": "b42edc4e",
   "metadata": {},
   "source": [
    "---\n",
    "\n",
    "## Власні значення\n",
    "Знайдіть власні значення матриці $ A = \\begin{bmatrix} 1 & 2 \\\\ 2 & 3 \\end{bmatrix} $."
   ]
  },
  {
   "cell_type": "code",
   "execution_count": null,
   "id": "06cc7e71",
   "metadata": {},
   "outputs": [],
   "source": [
    "# Ваш код тут:"
   ]
  },
  {
   "cell_type": "markdown",
   "id": "3b38c48b",
   "metadata": {},
   "source": [
    "---\n",
    "\n",
    "## Системи рівнянь\n",
    "Розв'яжіть систему рівнянь:\n",
    "\\begin{align*}\n",
    "x + y &= 3 \\\\\n",
    "2x - y &= 0\n",
    "\\end{align*}"
   ]
  },
  {
   "cell_type": "code",
   "execution_count": null,
   "id": "eeb2a9a8",
   "metadata": {},
   "outputs": [],
   "source": [
    "# Ваш код тут:"
   ]
  },
  {
   "cell_type": "markdown",
   "id": "a43d2b7f",
   "metadata": {},
   "source": [
    "---\n",
    "\n",
    "## Умовні оператори\n",
    "Напишіть умовний оператор, який перевіряє, чи є число `n` додатним, від'ємним або рівним нулю."
   ]
  },
  {
   "cell_type": "code",
   "execution_count": null,
   "id": "e90ef4f6",
   "metadata": {},
   "outputs": [],
   "source": [
    "# Ваш код тут:"
   ]
  },
  {
   "cell_type": "markdown",
   "id": "4d8fdfe0",
   "metadata": {},
   "source": [
    "---\n",
    "\n",
    "## Цикли\n",
    "Напишіть цикл, який виводить числа від 1 до 10."
   ]
  },
  {
   "cell_type": "code",
   "execution_count": null,
   "id": "c7b5607d",
   "metadata": {},
   "outputs": [],
   "source": [
    "# Ваш код тут:"
   ]
  },
  {
   "cell_type": "markdown",
   "id": "62c726e7",
   "metadata": {},
   "source": [
    "---\n",
    "\n",
    "## Оголошення функцій\n",
    "Оголосіть функцію `f(x)`, яка повертає $ 3x^2 - 2x + 1 $. Потім обчисліть `f(5)`."
   ]
  },
  {
   "cell_type": "code",
   "execution_count": null,
   "id": "bf319cff",
   "metadata": {},
   "outputs": [],
   "source": [
    "# Ваш код тут:"
   ]
  },
  {
   "cell_type": "markdown",
   "id": "955c86cd",
   "metadata": {},
   "source": [
    "---\n",
    "\n",
    "## Графіки декількох функцій\n",
    "Побудуйте графіки $ f(x) = x^2 $ та $ g(x) = -x^2 + 5 $ на одній площині у діапазоні $ x = [-3, 3] $."
   ]
  },
  {
   "cell_type": "code",
   "execution_count": null,
   "id": "cdf31d02",
   "metadata": {},
   "outputs": [],
   "source": [
    "# Ваш код тут:"
   ]
  }
 ],
 "metadata": {
  "kernelspec": {
   "display_name": "SageMath 10.4",
   "language": "sage",
   "name": "sagemath"
  },
  "language_info": {
   "codemirror_mode": {
    "name": "ipython",
    "version": 3
   },
   "file_extension": ".py",
   "mimetype": "text/x-python",
   "name": "python",
   "nbconvert_exporter": "python",
   "pygments_lexer": "ipython3",
   "version": "3.12.5"
  }
 },
 "nbformat": 4,
 "nbformat_minor": 5
}
