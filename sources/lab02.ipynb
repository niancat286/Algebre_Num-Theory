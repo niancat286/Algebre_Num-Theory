{
 "cells": [
  {
   "cell_type": "markdown",
   "id": "10ef961b",
   "metadata": {},
   "source": [
    "### Лабораторна робота №2: Групи та підгрупи\n",
    "\n",
    "**Мета роботи:** Попрацювати з деякими групами та підгрупами в Sage, познайомитися з графами Келі груп"
   ]
  },
  {
   "cell_type": "markdown",
   "id": "4f8833c2",
   "metadata": {},
   "source": [
    "---\n",
    "### 1. Приклади груп\n",
    "\n",
    "Для кожної з груп $G$= $S_3$, $D_4$, $\\mathbb{Z}_{14}$, $\\mathbb{Z}_{14}^{*}$ виконайте наступні кроки:\n",
    "1. Створіть групу.\n",
    "2. Знайдіть порядок групи.     # G.order()\n",
    "3. Побудуйте таблицю Келі групи.    # G.cayley_table(names='elements')\n",
    "4. Виберіть довільні два елементи в групі.\n",
    "5. Виконайте групову операцію над обраними елементами.\n",
    "6. Знайдіть обернені для обраних елементів.\n",
    "7. Визначте, чи є група абелевою. Якщо ні, то знайдіть два елементи групи, які не комутують.   # G.is_abelian()"
   ]
  },
  {
   "cell_type": "code",
   "execution_count": 1,
   "id": "f426e52b",
   "metadata": {},
   "outputs": [],
   "source": [
    "# Ваш код тут:"
   ]
  },
  {
   "cell_type": "code",
   "execution_count": 2,
   "id": "43d519e3",
   "metadata": {},
   "outputs": [],
   "source": [
    "# Ваш код тут:"
   ]
  },
  {
   "cell_type": "code",
   "execution_count": 3,
   "id": "4cf4a1f0-b7de-4515-b952-f7a932d7e567",
   "metadata": {},
   "outputs": [],
   "source": [
    "# Ваш код тут:"
   ]
  },
  {
   "cell_type": "code",
   "execution_count": 4,
   "id": "d230f954-73ec-48cb-9918-3d18c62c84da",
   "metadata": {},
   "outputs": [],
   "source": [
    "# Ваш код тут:"
   ]
  },
  {
   "cell_type": "markdown",
   "id": "9166b63a",
   "metadata": {},
   "source": [
    "---\n",
    "### 2. Ізоморфні групи\n",
    "\n",
    "1. Створіть групи $D_3$, $S_3$, $\\mathbb{Z}_7^{*}$, $SL_2(\\mathbb{Z}_2)$, $D_{12}$, $A_4$, $SL_2(\\mathbb{Z}_3)$.\n",
    "2. Перевірте, які з них ізоморфні.   % G.is_isomorphic(H)"
   ]
  },
  {
   "cell_type": "code",
   "execution_count": 5,
   "id": "c607db53",
   "metadata": {},
   "outputs": [],
   "source": [
    "# Ваш код тут:"
   ]
  },
  {
   "cell_type": "code",
   "execution_count": 6,
   "id": "b11d0d5d-9585-4311-ba5b-8cc6ea3ddb38",
   "metadata": {},
   "outputs": [],
   "source": [
    "# Ваш код тут:"
   ]
  },
  {
   "cell_type": "markdown",
   "id": "37f1e771",
   "metadata": {},
   "source": [
    "---\n",
    "### 3. Підгрупи і гратка підгруп\n",
    "\n",
    "Для кожної з груп $\\mathbb{Z}_{24}$, $Q_8$, $D_5$, $S_4$ виконайте наступні кроки:\n",
    "1. Створіть групу.\n",
    "2. Знайдіть усі її підгрупи.   % G.subgroups()\n",
    "3. Побудуйте гратку підгруп.   % G.subgroup_lattice() може не працювати, запитайте Gemini or ChatGpt\n",
    "4. Вкажіть групу, яка сама не абелева, але всі її власні підгрупи є абелевими."
   ]
  },
  {
   "cell_type": "code",
   "execution_count": null,
   "id": "8ac0f288",
   "metadata": {},
   "outputs": [],
   "source": [
    "# Ваш код тут:"
   ]
  },
  {
   "cell_type": "code",
   "execution_count": 8,
   "id": "7c8a335e-1489-4573-8662-4ab98a93bd19",
   "metadata": {},
   "outputs": [],
   "source": [
    "# Ваш код тут:"
   ]
  },
  {
   "cell_type": "code",
   "execution_count": 9,
   "id": "4b67c070-c2d4-44c1-9dac-64f9a97a5a35",
   "metadata": {},
   "outputs": [],
   "source": [
    "# Ваш код тут:"
   ]
  },
  {
   "cell_type": "code",
   "execution_count": 10,
   "id": "b4f893b2-a314-41ad-ab7c-fd87c366a6e2",
   "metadata": {},
   "outputs": [],
   "source": [
    "# Ваш код тут:"
   ]
  },
  {
   "cell_type": "markdown",
   "id": "45b712c9",
   "metadata": {},
   "source": [
    "---\n",
    "### 4. Системи твірних\n",
    "\n",
    "Для кожної з груп $\\mathbb{Z}_{24}$, $Q_8$, $D_5$, $S_4$ виконайте наступні кроки:\n",
    "\n",
    "1. Створіть групу.\n",
    "2. Знайдіть деяку систему твірних групи.    % G.gens()\n",
    "3. Знайдіть всі мінімальні системи твірних групи.    % G.minimal_generating_sets()\n",
    "4. Візьміть довільні два елементи групи, породіть ними підгрупу, знайдіть її порядок.  % G.subgroup([el1, el2])"
   ]
  },
  {
   "cell_type": "code",
   "execution_count": 11,
   "id": "fb5185db",
   "metadata": {},
   "outputs": [],
   "source": [
    "# Ваш код тут:"
   ]
  },
  {
   "cell_type": "code",
   "execution_count": 12,
   "id": "f24d6e47-bae1-4965-8716-85fa6620692f",
   "metadata": {},
   "outputs": [],
   "source": [
    "# Ваш код тут:"
   ]
  },
  {
   "cell_type": "code",
   "execution_count": 13,
   "id": "b156eff3-af8c-4497-939a-a4155e60db96",
   "metadata": {},
   "outputs": [],
   "source": [
    "# Ваш код тут:"
   ]
  },
  {
   "cell_type": "code",
   "execution_count": 14,
   "id": "46e789d0-c95b-4377-9641-bcc60fefbfb6",
   "metadata": {},
   "outputs": [],
   "source": [
    "# Ваш код тут:"
   ]
  },
  {
   "cell_type": "markdown",
   "id": "8ad8ef30",
   "metadata": {},
   "source": [
    "---\n",
    "### 5. Графи Келі\n",
    "\n",
    "Графом Келі групи $G$ відносно системи твірних $S$ називається орієнтований граф $\\Gamma(G,S)$, вершинами якого є елементи групи і кожний $g\\in G$ з'єднаний орієнтованим ребро з $gs$ для всіх $s\\in S$.\n",
    "\n",
    "1. Побудуйте графи Келі для груп $D_4$, $Q_8$, $S_3$, $S_4$, $A_4$ для деяких систем твірних.  % G.cayley_graph()\n",
    "2. Опишіть спостереження: які особливості бачите у графів Келі груп?"
   ]
  },
  {
   "cell_type": "code",
   "execution_count": null,
   "id": "fea4cd46",
   "metadata": {},
   "outputs": [],
   "source": [
    "# Ваш код тут:"
   ]
  },
  {
   "cell_type": "code",
   "execution_count": 16,
   "id": "8b0997f3-f910-4b57-a25c-b31f094a52cc",
   "metadata": {},
   "outputs": [],
   "source": [
    "# Ваш код тут:"
   ]
  },
  {
   "cell_type": "code",
   "execution_count": 17,
   "id": "ebfc96d8-e5dd-4221-b89b-d5c04d8a764b",
   "metadata": {},
   "outputs": [],
   "source": [
    "# Ваш код тут:"
   ]
  },
  {
   "cell_type": "code",
   "execution_count": 18,
   "id": "c52f0f68-3dd9-4d51-9e3f-0625c2bd2822",
   "metadata": {},
   "outputs": [],
   "source": [
    "# Ваш код тут:"
   ]
  },
  {
   "cell_type": "code",
   "execution_count": 19,
   "id": "86d68804-191f-45e0-8eac-42fcc614b6f1",
   "metadata": {},
   "outputs": [],
   "source": [
    "# Ваш код тут:"
   ]
  },
  {
   "cell_type": "markdown",
   "id": "fd0ea6a4",
   "metadata": {},
   "source": [
    "---\n",
    "### 6*. Група підстановок, породжена випадковими підстановками\n",
    "\n",
    "1. Створіть групи $S_n$ та $A_n$ для великого числа $n$.\n",
    "2. Проведіть наступний експеримент багато разів (в циклі):<br>\n",
    "       2.1. Згенеруйте дві випадкові підстановки в $S_n$.<br>\n",
    "       2.2. Перевірте, парні вони чи ні.<br>\n",
    "       2.3. Перевірте, чи породжують вони всю групу $S_n$ або її підгрупу $A_n$. \n",
    "4. Сформулюйте гіпотезу про те, яка ймовірність породження симетричної групи двома підстановками та що відбувається при $n\\rightarrow\\infty$."
   ]
  },
  {
   "cell_type": "code",
   "execution_count": 20,
   "id": "8eba3044-e3eb-4434-a895-8b38f5fa41bb",
   "metadata": {},
   "outputs": [],
   "source": [
    "# Ваш код тут:"
   ]
  },
  {
   "cell_type": "markdown",
   "id": "4eb1d707-ccaf-40ab-a833-d217ecf64e4b",
   "metadata": {},
   "source": [
    "---\n",
    "### 7*. Чи є граф Петерсена графом Келі?\n",
    "\n",
    "1. Побудуйте граф Петерсена.\n",
    "2. Перевірте, чи є граф Петерсена графом Келі деякої групи."
   ]
  },
  {
   "cell_type": "code",
   "execution_count": 21,
   "id": "ecae6ae4",
   "metadata": {},
   "outputs": [],
   "source": [
    "# Ваш код тут:"
   ]
  }
 ],
 "metadata": {
  "kernelspec": {
   "display_name": "SageMath 10.6",
   "language": "sage",
   "name": "sagemath"
  },
  "language_info": {
   "codemirror_mode": {
    "name": "ipython",
    "version": 3
   },
   "file_extension": ".py",
   "mimetype": "text/x-python",
   "name": "python",
   "nbconvert_exporter": "python",
   "pygments_lexer": "ipython3",
   "version": "3.11.13"
  }
 },
 "nbformat": 4,
 "nbformat_minor": 5
}
